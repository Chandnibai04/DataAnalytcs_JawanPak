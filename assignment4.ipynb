{
 "cells": [
  {
   "cell_type": "markdown",
   "id": "fda2be1b-9dba-4c3c-8f6b-95febeadd3ba",
   "metadata": {},
   "source": [
    " <!-- Q1. my_tuple = ( (1, 2, 3), [4, 5, 6], (\"apple\", \"banana\", \"cherry\"), [7, 8, 9] )\n",
    " • Print all elements from my_tuple on a new line (using for loop)\n",
    " • Create a new tuple by concatenating the first and last elements of my_tuple -->"
   ]
  },
  {
   "cell_type": "code",
   "execution_count": 4,
   "id": "91d416be-a192-4f1b-8376-14d9a44df421",
   "metadata": {},
   "outputs": [
    {
     "name": "stdout",
     "output_type": "stream",
     "text": [
      "(1, 2, 3)\n",
      "[4, 5, 6]\n",
      "('apple', 'banana', 'cherry')\n",
      "[7, 8, 9]\n",
      "(1, 2, 3, 7, 8, 9)\n"
     ]
    }
   ],
   "source": [
    "my_tuple =((1,2,3),[4,5,6],(\"apple\", \"banana\", \"cherry\"), [7, 8, 9] )\n",
    "for elements in my_tuple:\n",
    "    print(elements)\n",
    "newTuple = my_tuple[0]+tuple(my_tuple[-1])\n",
    "print(newTuple)"
   ]
  },
  {
   "cell_type": "code",
   "execution_count": null,
   "id": "3709431a-3b94-4219-80d1-208c2310669a",
   "metadata": {},
   "outputs": [],
   "source": []
  },
  {
   "cell_type": "markdown",
   "id": "2f83beae-3040-4d4b-8316-95aba441e1e0",
   "metadata": {},
   "source": [
    " <!-- Q2. inventory = {\"The Great Gatsby\": {\"price\": 10.99, \"quantity\": 5}, \"Rich dad poor dad\": {\"price\":\n",
    " 8.99, \"quantity\": 8}, \"Harry Potter\": {\"price\": 12.50, \"quantity\": 2}, }\n",
    " • Add a new book in inventory using method and get all book titles using method\n",
    " • Remove a book if it's out of stock -->"
   ]
  },
  {
   "cell_type": "code",
   "execution_count": 13,
   "id": "d5adcc25-be12-4b10-8079-a08ef258480d",
   "metadata": {},
   "outputs": [
    {
     "name": "stdout",
     "output_type": "stream",
     "text": [
      "book_titles: dict_keys(['The Great Gatsby', 'Rich dad poor dad', 'Harry Potter', 'The indus Valley Civilization'])\n",
      "update inventory: {'The Great Gatsby': {'price': 10.99, 'quantity': 5}, 'Rich dad poor dad': {'price': 8.99, 'quantity': 8}, 'Harry Potter': {'price': 12.5, 'quantity': 2}}\n"
     ]
    }
   ],
   "source": [
    "inventory = {\n",
    "    \"The Great Gatsby\": {\"price\": 10.99, \"quantity\": 5},\n",
    "    \"Rich dad poor dad\": {\"price\": 8.99, \"quantity\": 8},\n",
    "    \"Harry Potter\": {\"price\": 12.50, \"quantity\": 2},\n",
    "}\n",
    "inventory[\"The indus Valley Civilization\"] = {\"price\": 18.0, \"quantity\": 0}\n",
    "book_titles = inventory.keys()\n",
    "print(f\"book_titles: {book_titles}\")\n",
    "\n",
    "outOfStockBooks = []\n",
    "for book, details in inventory.items():\n",
    "    if details[\"quantity\"] == 0:\n",
    "       outOfStockBooks.append(book)\n",
    "for book in outOfStockBooks:\n",
    "    del inventory[book]\n",
    "\n",
    "print(\"update inventory:\", inventory)\n",
    "        "
   ]
  },
  {
   "cell_type": "code",
   "execution_count": null,
   "id": "91cb71a6-8345-49c2-8a7b-2378b6f79434",
   "metadata": {},
   "outputs": [],
   "source": []
  },
  {
   "cell_type": "markdown",
   "id": "16f066fb-8582-48b5-9186-28a1101f7589",
   "metadata": {},
   "source": [
    " <!-- Q3. An ecommerce store stores information about its products in a nested dictionary. The outer\n",
    " dictionary uses product IDs as keys, and the inner dictionary stores product details like name,\n",
    " category, price, and stock quantity.\n",
    " products = { 101: {\"name\":\"Laptop\", \"categor\": \"Electronics\", \"price\";: 1200, \"stock\": 50}, 102:\n",
    " {\"name\": \"Shirt\", \"category\": \"Apparel\", \"price\": 25, \"stock\": 200}, 103: {\"name\": \"\";Coffee Maker\",\n",
    " \"category\": \"Home Appliances\", \"price\": 80, \"stock\": 30} }\n",
    " • Increase the stock of the \"Shirt\" product (add 50 more units)\n",
    " • Add a new product (e.g., \"Smartphone\") -->"
   ]
  },
  {
   "cell_type": "code",
   "execution_count": 16,
   "id": "75c5ae12-e999-42a6-a7dc-c83a014c02c3",
   "metadata": {},
   "outputs": [],
   "source": [
    "products = {\n",
    "     101: {\"name\":\"Laptop\", \"categor\": \"Electronics\", \"price\": 1200, \"stock\": 50}, \n",
    "     102:{\"name\": \"Shirt\", \"category\": \"Apparel\", \"price\": 25, \"stock\": 200}, \n",
    "     103: {\"name\": \"Coffee Maker\", \"category\": \"Home Appliances\", \"price\": 80, \"stock\": 30}\n",
    "}"
   ]
  },
  {
   "cell_type": "code",
   "execution_count": 19,
   "id": "b40b2490-aa0e-4d04-b740-2c5fca3f0dda",
   "metadata": {},
   "outputs": [
    {
     "name": "stdout",
     "output_type": "stream",
     "text": [
      "{101: {'name': 'Laptop', 'categor': 'Electronics', 'price': 1200, 'stock': 50}, 102: {'name': 'Shirt', 'category': 'Apparel', 'price': 25, 'stock': 250}, 103: {'name': 'Coffee Maker', 'category': 'Home Appliances', 'price': 80, 'stock': 30}}\n"
     ]
    }
   ],
   "source": [
    "# • Increase the stock of the \"Shirt\" product (add 50 more units)\n",
    "products[102][\"stock\"]+=50\n",
    "print(products)"
   ]
  },
  {
   "cell_type": "code",
   "execution_count": 20,
   "id": "63a4b257-d4c5-4590-9e75-d4b05de92359",
   "metadata": {},
   "outputs": [
    {
     "name": "stdout",
     "output_type": "stream",
     "text": [
      "{101: {'name': 'Laptop', 'categor': 'Electronics', 'price': 1200, 'stock': 50}, 102: {'name': 'Shirt', 'category': 'Apparel', 'price': 25, 'stock': 250}, 103: {'name': 'Coffee Maker', 'category': 'Home Appliances', 'price': 80, 'stock': 30}, 104: {'name': 'Smartphone', 'category': 'electronics', 'price': 100000, 'stock': 10}}\n"
     ]
    }
   ],
   "source": [
    "# • Add a new product (e.g., \"Smartphone\")\n",
    "\n",
    "products[104]={\"name\":\"Smartphone\", \"category\": \"electronics\",\"price\" : 100000, \"stock\": 10}\n",
    "print(products)"
   ]
  },
  {
   "cell_type": "code",
   "execution_count": null,
   "id": "b1fbb920-deac-4289-a1d2-b69330c38b56",
   "metadata": {},
   "outputs": [],
   "source": []
  },
  {
   "cell_type": "markdown",
   "id": "e7537bda-e242-4563-a138-dad79531b13e",
   "metadata": {},
   "source": [
    " <!-- Q4. You are given a list that contains some duplicate items. Remove the duplicates by converting the\n",
    " list to a set.\n",
    " shopping_list = [\"apple\", \"banana\", \"apple\", \"orange\", \"banana\", \"grape\"] -->"
   ]
  },
  {
   "cell_type": "code",
   "execution_count": 21,
   "id": "8c297890-f1f8-438f-89b8-7afbeb414b3d",
   "metadata": {},
   "outputs": [
    {
     "name": "stdout",
     "output_type": "stream",
     "text": [
      "{'apple', 'banana', 'grape', 'orange'}\n"
     ]
    }
   ],
   "source": [
    "shopping_list = [\"apple\", \"banana\", \"apple\", \"orange\", \"banana\", \"grape\"]\n",
    "modified_list = set(shopping_list)\n",
    "print(modified_list)"
   ]
  },
  {
   "cell_type": "code",
   "execution_count": null,
   "id": "fb3ee58c-4f31-456e-9878-d39443323d17",
   "metadata": {},
   "outputs": [],
   "source": []
  },
  {
   "cell_type": "markdown",
   "id": "8650b6a5-8757-4afb-888e-4567cbd2d382",
   "metadata": {},
   "source": [
    " <!-- Q5. You are managing a list of students enrolled in two different courses. You need to perform\n",
    " various set operations to understand the student enrollment. Task: Create two sets: one for students\n",
    " in \"Course A\" and one for students in \"Course B\". Find the students who are in \"Course A\" but not in\n",
    " \"Course B\" (difference). Find students who are only in one of the two courses (symmetric\n",
    " difference). course_a = {\"John\";,\"Alice\", \"Bob\", \"David\"} course_b = {\"Alice\", \"Eve\",\"Charlie\",\n",
    " \"David\"}\n",
    " • Find students who are in Course A but not in Course B (difference)\n",
    " • Find students who are only in one of the two courses (symmetric difference) -->"
   ]
  },
  {
   "cell_type": "code",
   "execution_count": 23,
   "id": "17b48ce9-75de-448b-9378-bda0931458ad",
   "metadata": {},
   "outputs": [],
   "source": [
    "course_a = {\"John\",\"Alice\", \"Bob\", \"David\"}\n",
    "course_b = {\"Alice\", \"Eve\",\"Charlie\",\"David\"}"
   ]
  },
  {
   "cell_type": "code",
   "execution_count": 24,
   "id": "30d3f328-00d5-49b6-938a-2f27350f8245",
   "metadata": {},
   "outputs": [
    {
     "name": "stdout",
     "output_type": "stream",
     "text": [
      "{'Bob', 'John'}\n"
     ]
    }
   ],
   "source": [
    "# • Find students who are in Course A but not in Course B (difference)\n",
    "differnce = course_a - course_b\n",
    "print(differnce)"
   ]
  },
  {
   "cell_type": "code",
   "execution_count": 25,
   "id": "ee78278a-9c79-47f0-969d-27ca75313fd3",
   "metadata": {},
   "outputs": [
    {
     "name": "stdout",
     "output_type": "stream",
     "text": [
      "{'John', 'Eve', 'Charlie', 'Bob'}\n"
     ]
    }
   ],
   "source": [
    "# • Find students who are only in one of the two courses (symmetric difference)\n",
    "symmetric_difference = course_a ^ course_b\n",
    "print(symmetric_difference)"
   ]
  },
  {
   "cell_type": "code",
   "execution_count": null,
   "id": "6c037117-5b93-4e18-a657-9bdfc7ca335c",
   "metadata": {},
   "outputs": [],
   "source": []
  },
  {
   "cell_type": "markdown",
   "id": "08bfb374-f70c-4687-8891-a8d6947ebac7",
   "metadata": {},
   "source": [
    " <!-- Q6. Write a Python program that calculates the sum of all even numbers between 1 and 50\n",
    " (inclusive) using a for loop.\n",
    " Hint\n",
    " 1. Initialize a variable to hold the sum (e.g., sum_of_evens).\n",
    " 2. Use a for loop to iterate through all numbers from 1 to 50.\n",
    " 3. Inside the loop, check if the number is even.\n",
    " 4. If the number is even, add it to sum_of_evens.\n",
    " 5. After the loop finishes, print the total sum of all even numbers between 1 and 50. -->"
   ]
  },
  {
   "cell_type": "code",
   "execution_count": 27,
   "id": "e92a715e-f8c9-49cf-b2b1-2207eaac5c8b",
   "metadata": {},
   "outputs": [
    {
     "name": "stdout",
     "output_type": "stream",
     "text": [
      "600\n"
     ]
    }
   ],
   "source": [
    "sum_of_evens = 0\n",
    "for num in range(1,50):\n",
    "     if num % 2==0:\n",
    "         sum_of_evens+=num\n",
    "print(sum_of_evens)\n"
   ]
  },
  {
   "cell_type": "code",
   "execution_count": null,
   "id": "1d0477cc-db0a-474a-9a1a-a27c0b223d6f",
   "metadata": {},
   "outputs": [],
   "source": []
  },
  {
   "cell_type": "markdown",
   "id": "4eb6d50b-89e0-4f2b-b6a8-df3893aaedd0",
   "metadata": {},
   "source": [
    " <!-- Q7. Write a Python program that prints the multiplication table for a given number (between 1 and\n",
    " 10) using a for loop.\n",
    "\n",
    " Hint:\n",
    " 1. Ask the user for a number between 1 and 10 .\n",
    " 2. Use a for loop to iterate through the numbers from 1 to 10.\n",
    " 3. For each iteration, calculate the product of the given number and the current number in the\n",
    " loop.\n",
    " 4. Print the result in a readable format (e.g., 5 x 1 = 5).\n",
    " 5. Ensure the program works correctly for any number between 1 and 10. -->"
   ]
  },
  {
   "cell_type": "code",
   "execution_count": 31,
   "id": "1d22ad46-ddfa-4f50-9a11-c811247b7b81",
   "metadata": {},
   "outputs": [
    {
     "name": "stdin",
     "output_type": "stream",
     "text": [
      "enter number 7\n"
     ]
    },
    {
     "name": "stdout",
     "output_type": "stream",
     "text": [
      "7 x 1 = 7\n",
      "7 x 2 = 14\n",
      "7 x 3 = 21\n",
      "7 x 4 = 28\n",
      "7 x 5 = 35\n",
      "7 x 6 = 42\n",
      "7 x 7 = 49\n",
      "7 x 8 = 56\n",
      "7 x 9 = 63\n",
      "7 x 10 = 70\n"
     ]
    }
   ],
   "source": [
    "num = int(input(\"enter number\"))\n",
    "for i in range(1,11):\n",
    "    product = num *i\n",
    "    print(f\"{num} x {i} = {product}\")\n",
    "    "
   ]
  },
  {
   "cell_type": "code",
   "execution_count": null,
   "id": "697db12a-1f44-4ace-bc38-727ea44f72e0",
   "metadata": {},
   "outputs": [],
   "source": []
  },
  {
   "cell_type": "markdown",
   "id": "e113c251-e5b1-4f7b-9fcd-b4557a22915b",
   "metadata": {},
   "source": [
    " <!-- Q8. Power of a Number\n",
    " Write a Python program that takes a number and prints the powers of the number (starting from 1\n",
    " to 10) using a while loop. For example, if the user inputs 3, the output should be:\n",
    " 3^1 = 3\n",
    " 3^2 = 9\n",
    " 3^3 = 27\n",
    " ... up to 3^10. -->"
   ]
  },
  {
   "cell_type": "code",
   "execution_count": 32,
   "id": "7ff57754-9913-49b3-bb95-027bd6df9186",
   "metadata": {},
   "outputs": [
    {
     "name": "stdin",
     "output_type": "stream",
     "text": [
      "enter a number:  10\n"
     ]
    },
    {
     "name": "stdout",
     "output_type": "stream",
     "text": [
      "10^1 = 10\n",
      "10^2 = 100\n",
      "10^3 = 1000\n",
      "10^4 = 10000\n",
      "10^5 = 100000\n",
      "10^6 = 1000000\n",
      "10^7 = 10000000\n",
      "10^8 = 100000000\n",
      "10^9 = 1000000000\n",
      "10^10 = 10000000000\n"
     ]
    }
   ],
   "source": [
    "num = int(input(\"enter a number: \"))\n",
    "power = 1\n",
    "while power<= 10:\n",
    "    print(f\"{num}^{power} = {num**power}\")\n",
    "    power+=1"
   ]
  },
  {
   "cell_type": "code",
   "execution_count": null,
   "id": "d679fdf6-500b-404b-a957-522e98a36329",
   "metadata": {},
   "outputs": [],
   "source": []
  },
  {
   "cell_type": "markdown",
   "id": "49d1fe35-c6ae-4708-8646-4983485d5261",
   "metadata": {},
   "source": [
    " <!-- Q9. Problem Statement: Write a Python program that takes an integer input from the user and\n",
    " counts down from that number to 0. The program should display the current number at each step\n",
    " until it reaches 0, at which point it should print a message indicating the countdown is finished\n",
    " Output Hint:\n",
    " Enter a number to start the countdown: 3\n",
    " 3\n",
    " 2\n",
    " 1\n",
    " 0\n",
    " Countdown finished! -->"
   ]
  },
  {
   "cell_type": "code",
   "execution_count": 33,
   "id": "995bd203-c9ec-4567-a3bd-bd02f958db3c",
   "metadata": {},
   "outputs": [
    {
     "name": "stdin",
     "output_type": "stream",
     "text": [
      "enter a number to start countdown:  5\n"
     ]
    },
    {
     "name": "stdout",
     "output_type": "stream",
     "text": [
      "5\n",
      "4\n",
      "3\n",
      "2\n",
      "1\n",
      "0\n",
      "countdown finished\n"
     ]
    }
   ],
   "source": [
    "count = int(input(\"enter a number to start countdown: \"))\n",
    "while count>=0:\n",
    "    print(count)\n",
    "    count-=1\n",
    "print(\"countdown finished\")"
   ]
  },
  {
   "cell_type": "code",
   "execution_count": null,
   "id": "7c338cf7-5f26-47f2-ab6b-42208093473c",
   "metadata": {},
   "outputs": [],
   "source": []
  },
  {
   "cell_type": "markdown",
   "id": "6ec4f504-eaa3-4b90-ad2a-e249e4f75b32",
   "metadata": {},
   "source": [
    " <!-- Q10. Write a Python program that takes an integer input n from the user and generates a right-\n",
    " angled triangle pattern of stars (*) with n rows. The first row should contain 1 star, the second row 2\n",
    " stars, the third row 3 stars, and so on until the nth row.\n",
    " Ensure the stars in each row are separated by spaces, and each row starts on a new line.\n",
    " Pattern:\n",
    " *\n",
    " **\n",
    " ***\n",
    " ****\n",
    " ***** -->"
   ]
  },
  {
   "cell_type": "code",
   "execution_count": 37,
   "id": "693c76f3-0762-4f76-9c44-12d945193e5c",
   "metadata": {},
   "outputs": [
    {
     "name": "stdin",
     "output_type": "stream",
     "text": [
      "enter  the numbers of rows:  100\n"
     ]
    },
    {
     "name": "stdout",
     "output_type": "stream",
     "text": [
      "*\n",
      "**\n",
      "***\n",
      "****\n",
      "*****\n",
      "******\n",
      "*******\n",
      "********\n",
      "*********\n",
      "**********\n",
      "***********\n",
      "************\n",
      "*************\n",
      "**************\n",
      "***************\n",
      "****************\n",
      "*****************\n",
      "******************\n",
      "*******************\n",
      "********************\n",
      "*********************\n",
      "**********************\n",
      "***********************\n",
      "************************\n",
      "*************************\n",
      "**************************\n",
      "***************************\n",
      "****************************\n",
      "*****************************\n",
      "******************************\n",
      "*******************************\n",
      "********************************\n",
      "*********************************\n",
      "**********************************\n",
      "***********************************\n",
      "************************************\n",
      "*************************************\n",
      "**************************************\n",
      "***************************************\n",
      "****************************************\n",
      "*****************************************\n",
      "******************************************\n",
      "*******************************************\n",
      "********************************************\n",
      "*********************************************\n",
      "**********************************************\n",
      "***********************************************\n",
      "************************************************\n",
      "*************************************************\n",
      "**************************************************\n",
      "***************************************************\n",
      "****************************************************\n",
      "*****************************************************\n",
      "******************************************************\n",
      "*******************************************************\n",
      "********************************************************\n",
      "*********************************************************\n",
      "**********************************************************\n",
      "***********************************************************\n",
      "************************************************************\n",
      "*************************************************************\n",
      "**************************************************************\n",
      "***************************************************************\n",
      "****************************************************************\n",
      "*****************************************************************\n",
      "******************************************************************\n",
      "*******************************************************************\n",
      "********************************************************************\n",
      "*********************************************************************\n",
      "**********************************************************************\n",
      "***********************************************************************\n",
      "************************************************************************\n",
      "*************************************************************************\n",
      "**************************************************************************\n",
      "***************************************************************************\n",
      "****************************************************************************\n",
      "*****************************************************************************\n",
      "******************************************************************************\n",
      "*******************************************************************************\n",
      "********************************************************************************\n",
      "*********************************************************************************\n",
      "**********************************************************************************\n",
      "***********************************************************************************\n",
      "************************************************************************************\n",
      "*************************************************************************************\n",
      "**************************************************************************************\n",
      "***************************************************************************************\n",
      "****************************************************************************************\n",
      "*****************************************************************************************\n",
      "******************************************************************************************\n",
      "*******************************************************************************************\n",
      "********************************************************************************************\n",
      "*********************************************************************************************\n",
      "**********************************************************************************************\n",
      "***********************************************************************************************\n",
      "************************************************************************************************\n",
      "*************************************************************************************************\n",
      "**************************************************************************************************\n",
      "***************************************************************************************************\n",
      "****************************************************************************************************\n"
     ]
    }
   ],
   "source": [
    "n = int(input(\"enter  the numbers of rows: \"))\n",
    "for i in range(1,n+1):\n",
    "    print(\"*\" * i)"
   ]
  },
  {
   "cell_type": "code",
   "execution_count": null,
   "id": "759a595d-458f-4a5d-8101-089a43433476",
   "metadata": {},
   "outputs": [],
   "source": []
  }
 ],
 "metadata": {
  "kernelspec": {
   "display_name": "Python 3 (ipykernel)",
   "language": "python",
   "name": "python3"
  },
  "language_info": {
   "codemirror_mode": {
    "name": "ipython",
    "version": 3
   },
   "file_extension": ".py",
   "mimetype": "text/x-python",
   "name": "python",
   "nbconvert_exporter": "python",
   "pygments_lexer": "ipython3",
   "version": "3.12.7"
  }
 },
 "nbformat": 4,
 "nbformat_minor": 5
}
