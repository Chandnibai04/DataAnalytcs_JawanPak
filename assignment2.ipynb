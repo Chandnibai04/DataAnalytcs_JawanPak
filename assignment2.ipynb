{
 "cells": [
  {
   "cell_type": "code",
   "execution_count": 2,
   "id": "ef472861-1a12-45c4-a2a8-a510f0a2f33c",
   "metadata": {},
   "outputs": [
    {
     "name": "stdin",
     "output_type": "stream",
     "text": [
      "enter your age:  0\n"
     ]
    },
    {
     "name": "stdout",
     "output_type": "stream",
     "text": [
      "child\n"
     ]
    }
   ],
   "source": [
    "# Age Group Classification\n",
    "\n",
    "age=int(input(\"enter your age: \"))\n",
    "if age>=0 and age<=12:\n",
    "    print(\"child\")\n",
    "elif age>=13 and age<=19:\n",
    "    print(\"teenager\")\n",
    "elif age>=20 and age<=64:\n",
    "    print(\"adult\")\n",
    "else:\n",
    "    print(\"senior\")"
   ]
  },
  {
   "cell_type": "code",
   "execution_count": null,
   "id": "fa52cd78-0898-47a8-bdd8-ded7d79de2b6",
   "metadata": {},
   "outputs": [],
   "source": []
  },
  {
   "cell_type": "code",
   "execution_count": 7,
   "id": "d36fc3ea-3865-4587-bea9-c497e33ba54f",
   "metadata": {},
   "outputs": [
    {
     "name": "stdin",
     "output_type": "stream",
     "text": [
      "enter your membership status (premium/regular):  regular\n",
      "enter your purchase amount:  1500\n"
     ]
    },
    {
     "name": "stdout",
     "output_type": "stream",
     "text": [
      "you are not eligible for discount\n"
     ]
    }
   ],
   "source": [
    "#Question 2: Checking for Eligibility for Discount\n",
    "\n",
    "membership_status=input(\"enter your membership status (premium/regular): \")\n",
    "purchase_amount = float(input(\"enter your purchase amount: \"))\n",
    "if (membership_status == \"premium\" and purchae_amount >=1000):\n",
    "    print(\"Eligible for discount\")\n",
    "elif (membership_status == \"regular\" and purchase_amount >=2000):\n",
    "    print(\"Eligible for discount\")\n",
    "else:\n",
    "    print(\"you are not eligible for discount\")"
   ]
  },
  {
   "cell_type": "code",
   "execution_count": null,
   "id": "ab4a9cee-11fd-40b3-8da8-b6d7c30da005",
   "metadata": {},
   "outputs": [],
   "source": []
  },
  {
   "cell_type": "code",
   "execution_count": 11,
   "id": "6d050f1a-c74f-4b4a-8220-134c19b86342",
   "metadata": {},
   "outputs": [
    {
     "name": "stdin",
     "output_type": "stream",
     "text": [
      "enter your age 20\n",
      "enter your Citizenship status (citizen/non-citizen):  non-citizen\n"
     ]
    },
    {
     "name": "stdout",
     "output_type": "stream",
     "text": [
      "you are not eligible to vote\n"
     ]
    }
   ],
   "source": [
    "Question 3: Voting Eligibility Check\n",
    "\n",
    "age = int(input(\"enter your age\"))\n",
    "Citizenship_status= input(\"enter your Citizenship status (citizen/non-citizen): \")\n",
    "if age >=18 and Citizenship_status == \"citizen\":\n",
    "    print(\"eligible to vote\")\n",
    "elif age >=16 and Citizenship_status ==\" citizen belong from the region where voting is allowed at the age of 16\":\n",
    "    print(\"eligible to vote\")\n",
    "else:\n",
    "    print(\"you are not eligible to vote\")"
   ]
  },
  {
   "cell_type": "code",
   "execution_count": null,
   "id": "92f57999-6f89-4e34-b1f8-527d99e28bce",
   "metadata": {},
   "outputs": [],
   "source": []
  },
  {
   "cell_type": "code",
   "execution_count": 12,
   "id": "0ff28844-9ad1-4102-bce3-7d39231a7556",
   "metadata": {},
   "outputs": [
    {
     "name": "stdin",
     "output_type": "stream",
     "text": [
      "enter employee year os service:  12\n",
      "enter employee performance (Excellent/good/Satisfactory):  good\n"
     ]
    },
    {
     "name": "stdout",
     "output_type": "stream",
     "text": [
      "employee is eligible for a salary bonus\n"
     ]
    }
   ],
   "source": [
    "#Question 4: Employee Salary Bonus Eligibility\n",
    "\n",
    "year_of_service =int (input(\"enter employee year of service: \"))\n",
    "employee_performance =input(\"enter employee performance (Excellent/good/Satisfactory): \")\n",
    "if year_of_service >= 5 and employee_performance ==\"Excellent\":\n",
    "    print(\"employee is eligible for a salary bonus\")\n",
    "elif year_of_service >= 10 and employee_performance ==\"good\":\n",
    "    print(\"employee is eligible for a salary bonus\")\n",
    "elif year_of_service >= 15 and employee_performance ==\"Satisfactory\":\n",
    "    print(\"employee is eligible for a salary bonus\")\n",
    "else:\n",
    "    print(\"employee is not eligible for salary bonus\")\n"
   ]
  },
  {
   "cell_type": "code",
   "execution_count": null,
   "id": "50210c4f-242f-4948-a153-90de1c369ddd",
   "metadata": {},
   "outputs": [],
   "source": []
  },
  {
   "cell_type": "code",
   "execution_count": 14,
   "id": "964e9eeb-06a3-46fc-897a-3b08cc6faf73",
   "metadata": {},
   "outputs": [
    {
     "name": "stdout",
     "output_type": "stream",
     "text": [
      "new_text:  I'm_learning_Python_programming\n",
      "count_underscore:  3\n",
      "first_underscore_pos:  3\n"
     ]
    }
   ],
   "source": [
    "# Question 5. Write a program that replaces spaces with underscores, counts how many underscores are\n",
    "# there, and finds the position of the first underscore.\n",
    "# Use text: I'm learning Python programming\n",
    "\n",
    "text = \"I'm learning Python programming\"\n",
    "new_text = text.replace(\" \",\"_\")\n",
    "count_underscore = new_text.count(\"_\")\n",
    "first_underscore_pos = new_text.find(\"_\")\n",
    "print(\"new_text: \", new_text)\n",
    "print(\"count_underscore: \",count_underscore)\n",
    "print(\"first_underscore_pos: \", first_underscore_pos)"
   ]
  },
  {
   "cell_type": "code",
   "execution_count": null,
   "id": "f962edd7-1464-40fd-94b7-6b24cec8bb9a",
   "metadata": {},
   "outputs": [],
   "source": []
  },
  {
   "cell_type": "code",
   "execution_count": 20,
   "id": "e4045d71-85a2-4672-bd82-8e1a22997efe",
   "metadata": {},
   "outputs": [
    {
     "name": "stdout",
     "output_type": "stream",
     "text": [
      "String that excludes the last 3 characters: hey here's chandni \n",
      "Every second character of the string: hyhr' hnn a\n",
      "The string in reverse: iab indnahc s'ereh yeh\n"
     ]
    }
   ],
   "source": [
    "# Question 6:\n",
    "# Write a Python program that:\n",
    "#  Takes a string as input.\n",
    "#  Prints all characters of the string except the last 3 using slicing.\n",
    "#  Prints every second character of the string using slicing.\n",
    "#  Prints the string in reverse using slicing\n",
    "\n",
    "msg = \"hey here's chandni bai\"\n",
    "print(\"String that excludes the last 3 characters:\", msg[:-3])\n",
    "print(\"Every second character of the string:\", msg[::2])\n",
    "print(\"The string in reverse:\", msg[::-1])"
   ]
  },
  {
   "cell_type": "code",
   "execution_count": null,
   "id": "284fe3e2-2e54-4f44-9bc3-a83853e66fc7",
   "metadata": {},
   "outputs": [],
   "source": []
  },
  {
   "cell_type": "code",
   "execution_count": 22,
   "id": "07e5a0e8-b8aa-467c-8842-a1c27f71e14f",
   "metadata": {},
   "outputs": [
    {
     "name": "stdout",
     "output_type": "stream",
     "text": [
      "reversed sentence:  Python learning are We World, Hello\n"
     ]
    }
   ],
   "source": [
    "# Question 7. Given a sentence, you need to reverse the order of the words in the sentence while\n",
    "# preserving their original capitalization and spaces.\n",
    "# Use text : \"Hello World, We are learning Python\"\n",
    "\n",
    "sentence =\"Hello World, We are learning Python\"\n",
    "words = sentence.split()\n",
    "reversed_sentence = ' '.join(reversed(words))\n",
    "print(\"reversed sentence: \" , reversed_sentence)"
   ]
  },
  {
   "cell_type": "code",
   "execution_count": null,
   "id": "2a3e96f0-4361-4e35-8628-f051a1f1a279",
   "metadata": {},
   "outputs": [],
   "source": []
  },
  {
   "cell_type": "code",
   "execution_count": 23,
   "id": "b33deb20-1487-4ab9-967c-342ca95a1259",
   "metadata": {},
   "outputs": [
    {
     "name": "stdout",
     "output_type": "stream",
     "text": [
      "extracted number:  12345\n"
     ]
    }
   ],
   "source": [
    "Question 8. You have a product code that follows the format &quot;SKU-12345-XYZ&quot;. You need to:\n",
    "Remove the \"SKU-&quot; and the &quot;-XYZ&quot; from the product code. Extract and return the number\n",
    "\n",
    "product_code = \"SKU-12345-XYZ\"\n",
    "number = product_code[4:-4]\n",
    "print(\"extracted number: \", number)"
   ]
  },
  {
   "cell_type": "code",
   "execution_count": null,
   "id": "71a0d2fc-1054-4a87-9fb0-243c23617799",
   "metadata": {},
   "outputs": [],
   "source": []
  },
  {
   "cell_type": "code",
   "execution_count": 24,
   "id": "7fe7094e-0fe3-4469-a60b-76bb336723a2",
   "metadata": {},
   "outputs": [
    {
     "name": "stderr",
     "output_type": "stream",
     "text": [
      "<>:2: SyntaxWarning: invalid escape sequence '\\ '\n",
      "<>:2: SyntaxWarning: invalid escape sequence '\\ '\n",
      "C:\\Users\\PMLS\\AppData\\Local\\Temp\\ipykernel_7436\\1132284298.py:2: SyntaxWarning: invalid escape sequence '\\ '\n",
      "  special_charachter =  \"! @ # $ % ^ & * ( ) - _ = + \\ | [ ] { } ; : / ? . >\"\n"
     ]
    },
    {
     "name": "stdin",
     "output_type": "stream",
     "text": [
      "enter your password hey!2W\n"
     ]
    },
    {
     "name": "stdout",
     "output_type": "stream",
     "text": [
      "contains uppercase:  True\n",
      "contains lowercase:  True\n",
      "contains isspace:  False\n",
      "contains special_charachter:  True\n"
     ]
    }
   ],
   "source": [
    "# Question 9. Write a Python program to check user password has following:\n",
    "# Whether the string contains any uppercase characters. Whether the string contains any lowercase\n",
    "# characters. Whether the string contains any spaces. Whether the string contains any special\n",
    "# characters (anything other than letters, digits, and spaces).\n",
    "\n",
    "password=input(\"enter your password\")\n",
    "special_charachter =  \"! @ # $ % ^ & * ( ) - _ = + \\ | [ ] { } ; : / ? . >\"\n",
    "has_uppercase = any(char.isupper() for  char in password)\n",
    "has_lowercase = any(char.islower() for  char in password)\n",
    "has_space = any(char.isspace() for  char in password)\n",
    "has_special_charachter = any(special_charachter for  char in password)\n",
    "print(\"contains uppercase: \",has_uppercase)\n",
    "print(\"contains lowercase: \",has_lowercase)\n",
    "print(\"contains isspace: \",has_space)\n",
    "print(\"contains special_charachter: \",has_special_charachter)"
   ]
  },
  {
   "cell_type": "code",
   "execution_count": null,
   "id": "16c64209-cae7-4fbd-a3d1-b81e9941fb7f",
   "metadata": {},
   "outputs": [],
   "source": []
  },
  {
   "cell_type": "code",
   "execution_count": 26,
   "id": "f077c3eb-0042-44b1-9740-82ee02f1cf07",
   "metadata": {},
   "outputs": [
    {
     "name": "stdout",
     "output_type": "stream",
     "text": [
      "the longest word is:  programming\n"
     ]
    }
   ],
   "source": [
    "# Question 10: Find the Longest Word\n",
    "# Write a Python program that finds the longest word in a given string.\n",
    "\n",
    "sentence = \"I love programming in python\"\n",
    "words= sentence.split()\n",
    "longest_word = max(words, key = len)\n",
    "print(\"the longest word is: \", longest_word)"
   ]
  },
  {
   "cell_type": "code",
   "execution_count": null,
   "id": "cb3a77e2-c3be-4288-8fe6-cba3805cd365",
   "metadata": {},
   "outputs": [],
   "source": []
  }
 ],
 "metadata": {
  "kernelspec": {
   "display_name": "Python 3 (ipykernel)",
   "language": "python",
   "name": "python3"
  },
  "language_info": {
   "codemirror_mode": {
    "name": "ipython",
    "version": 3
   },
   "file_extension": ".py",
   "mimetype": "text/x-python",
   "name": "python",
   "nbconvert_exporter": "python",
   "pygments_lexer": "ipython3",
   "version": "3.12.7"
  }
 },
 "nbformat": 4,
 "nbformat_minor": 5
}
