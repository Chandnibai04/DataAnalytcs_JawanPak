{
 "cells": [
  {
   "cell_type": "code",
   "execution_count": null,
   "id": "7ce8e948-959a-43b8-b93c-bb119ea5ced9",
   "metadata": {},
   "outputs": [],
   "source": [
    "# Write a Python function called add_numbers that takes two numbers as arguments and returns their sum. \n",
    "# Then, test the function by calling it with two numbers of your choice."
   ]
  },
  {
   "cell_type": "code",
   "execution_count": 1,
   "id": "39189592-8da5-4f3f-8dcb-7d5d3360897a",
   "metadata": {},
   "outputs": [
    {
     "data": {
      "text/plain": [
       "7"
      ]
     },
     "execution_count": 1,
     "metadata": {},
     "output_type": "execute_result"
    }
   ],
   "source": [
    "def add(num1,num2):\n",
    "    return num1+num2\n",
    "add(2,5)"
   ]
  },
  {
   "cell_type": "code",
   "execution_count": null,
   "id": "a8b6facf-99f5-426f-845f-354374cd49bd",
   "metadata": {},
   "outputs": [],
   "source": []
  },
  {
   "cell_type": "code",
   "execution_count": null,
   "id": "43269064-ed24-4227-8b17-0d5fb67dbe73",
   "metadata": {},
   "outputs": [],
   "source": [
    "# Write a Python function count_vowels that accepts a string and returns the number of vowels (a, e, i, o, u) in that string.\n",
    "# Example: 'Orange'\n",
    "# Output: 3 vowels"
   ]
  },
  {
   "cell_type": "code",
   "execution_count": 12,
   "id": "778ca792-5c2b-466d-9f1a-c3d3e20bb495",
   "metadata": {},
   "outputs": [
    {
     "name": "stdout",
     "output_type": "stream",
     "text": [
      "Orange contains 3 vowels.\n"
     ]
    }
   ],
   "source": [
    "def count_vowels(s):\n",
    "   \n",
    "    vowels = \"aeiouAEIOU\"\n",
    "    return sum(1 for char in s if char in vowels)\n",
    "\n",
    "example = \"Orange\"\n",
    "print(f\"{example} contains {count_vowels(example)} vowels.\")\n"
   ]
  },
  {
   "cell_type": "code",
   "execution_count": null,
   "id": "0ce75d2c-f153-4421-85cc-066042e6e818",
   "metadata": {},
   "outputs": [],
   "source": []
  },
  {
   "cell_type": "code",
   "execution_count": null,
   "id": "546c86c8-ca14-46f0-819b-30af6b12eae0",
   "metadata": {},
   "outputs": [],
   "source": [
    "# Create a Python function called currency_converter() that takes two arguments:\n",
    "# amount: The amount of money to be converted (in USD).\n",
    "# exchange_rate (default is 280): The conversion rate from USD to another currency (e.g., PKR). You can assume the default rate is 1 USD = 280 PKR."
   ]
  },
  {
   "cell_type": "code",
   "execution_count": 2,
   "id": "3cfe163b-f068-4d94-8d85-5400585cd237",
   "metadata": {},
   "outputs": [
    {
     "name": "stdout",
     "output_type": "stream",
     "text": [
      "$100 USD is equal to 28000 PKR at an exchange rate of 280.\n"
     ]
    }
   ],
   "source": [
    "def currency_converter(amount, exchange_rate=280):\n",
    "   \n",
    "    if amount < 0:\n",
    "        raise ValueError(\"Amount must be non-negative.\")\n",
    "    if exchange_rate <= 0:\n",
    "        raise ValueError(\"Exchange rate must be greater than zero.\")\n",
    "    \n",
    "    return amount * exchange_rate\n",
    "usd_amount = 100\n",
    "converted_amount = currency_converter(usd_amount)\n",
    "print(f\"${usd_amount} USD is equal to {converted_amount} PKR at an exchange rate of 280.\")\n"
   ]
  },
  {
   "cell_type": "code",
   "execution_count": null,
   "id": "5d5f11fd-a466-44e8-b060-daef7899c13a",
   "metadata": {},
   "outputs": [],
   "source": []
  },
  {
   "cell_type": "code",
   "execution_count": null,
   "id": "e1d92016-8130-4800-8c98-6d4c5e7f12d5",
   "metadata": {},
   "outputs": [],
   "source": [
    "# Write a Python function display_student_info that accepts the following details about a student:\n",
    "# name (Keyword argument): The name of the student.\n",
    "# age (Keyword argument): The age of the student.\n",
    "# grade (Keyword argument): The grade the student is in.\n",
    "# school (Keyword argument): The name of the school the student attends."
   ]
  },
  {
   "cell_type": "code",
   "execution_count": 3,
   "id": "167853aa-152d-4402-ad34-f46fe2c56895",
   "metadata": {},
   "outputs": [
    {
     "name": "stdout",
     "output_type": "stream",
     "text": [
      "Student Information:\n",
      "Name: chandni\n",
      "Age: 20\n",
      "Grade: 15\n",
      "School: university of karachi\n"
     ]
    }
   ],
   "source": [
    "def display_student_info(*, name, age, grade, school):\n",
    "    \n",
    "    print(f\"Student Information:\")\n",
    "    print(f\"Name: {name}\")\n",
    "    print(f\"Age: {age}\")\n",
    "    print(f\"Grade: {grade}\")\n",
    "    print(f\"School: {school}\")\n",
    "\n",
    "\n",
    "display_student_info(name=\"chandni\", age=20, grade=\"15\", school=\"university of karachi\")\n"
   ]
  },
  {
   "cell_type": "code",
   "execution_count": null,
   "id": "33bdc4a5-801b-4b69-a07f-18a17fa326bc",
   "metadata": {},
   "outputs": [],
   "source": []
  },
  {
   "cell_type": "code",
   "execution_count": null,
   "id": "9e156999-7f4f-4653-a793-f9a724843c46",
   "metadata": {},
   "outputs": [],
   "source": [
    "# Write a Python function calculate_price that accepts two positional arguments:\n",
    "# price: The price of a single item.\n",
    "# quantity: The number of items bought.\n",
    "# The function should return the total price by multiplying price and quantity."
   ]
  },
  {
   "cell_type": "code",
   "execution_count": 4,
   "id": "90d968e3-8221-4cf6-9b1a-412147c07a8f",
   "metadata": {},
   "outputs": [
    {
     "name": "stdout",
     "output_type": "stream",
     "text": [
      "The total price for 8 items at $24.0 each is $192.00.\n"
     ]
    }
   ],
   "source": [
    "def calculate_price(price, quantity):\n",
    "    \n",
    "    return price * quantity\n",
    "price_per_item = 24.0\n",
    "number_of_items = 8\n",
    "total_price = calculate_price(price_per_item, number_of_items)\n",
    "print(f\"The total price for {number_of_items} items at ${price_per_item} each is ${total_price:.2f}.\")\n"
   ]
  },
  {
   "cell_type": "code",
   "execution_count": null,
   "id": "552c33ee-ffc2-47dc-a174-03b92dad822d",
   "metadata": {},
   "outputs": [],
   "source": []
  },
  {
   "cell_type": "code",
   "execution_count": null,
   "id": "fe0e84a1-cc4e-4104-bcd7-ced2e87aeeb1",
   "metadata": {},
   "outputs": [],
   "source": [
    "# Write a Python function display_prices that takes a product name and an arbitrary number of keyword arguments representing product prices. \n",
    "# The function should display each product and its price.\n",
    "# Product: Laptop\n",
    "\n",
    "# Amazon: $800\n",
    "\n",
    "# eBay: $750\n",
    "\n",
    "# Walmart: $780"
   ]
  },
  {
   "cell_type": "code",
   "execution_count": 5,
   "id": "3ee0a2e5-8c8e-4669-9b22-7f74ed12b588",
   "metadata": {},
   "outputs": [
    {
     "name": "stdout",
     "output_type": "stream",
     "text": [
      "Product: Laptop\n",
      "\n",
      "Amazon: $800\n",
      "eBay: $750\n",
      "Walmart: $780\n"
     ]
    }
   ],
   "source": [
    "def display_prices(product, **prices):\n",
    "    print(f\"Product: {product}\\n\")\n",
    "    for source, price in prices.items():\n",
    "        print(f\"{source}: ${price}\")\n",
    "display_prices(\n",
    "    \"Laptop\",\n",
    "    Amazon=800,\n",
    "    eBay=750,\n",
    "    Walmart=780\n",
    ")\n"
   ]
  },
  {
   "cell_type": "code",
   "execution_count": null,
   "id": "16b11068-c489-4c70-ad55-867266f0d286",
   "metadata": {},
   "outputs": [],
   "source": []
  },
  {
   "cell_type": "code",
   "execution_count": null,
   "id": "f089b743-8e86-4eb6-92bb-8b8357e3f817",
   "metadata": {},
   "outputs": [],
   "source": [
    "# Write a Python function find_max that takes any number of numerical arguments and returns the maximum number.\n"
   ]
  },
  {
   "cell_type": "code",
   "execution_count": 7,
   "id": "b9cb7002-6e99-4f75-af27-19bece4ac509",
   "metadata": {},
   "outputs": [
    {
     "name": "stdout",
     "output_type": "stream",
     "text": [
      "The maximum number is 200.\n"
     ]
    }
   ],
   "source": [
    "def find_max(*numbers):\n",
    "    if not numbers:\n",
    "        raise ValueError(\"At least one number must be provided.\")\n",
    "    \n",
    "    return max(numbers)\n",
    "# Example usage\n",
    "max_number = find_max(150, 200, 5, 30, 15)\n",
    "print(f\"The maximum number is {max_number}.\")\n"
   ]
  },
  {
   "cell_type": "code",
   "execution_count": null,
   "id": "f67f623e-0abb-4000-afd5-a6671cb635b0",
   "metadata": {},
   "outputs": [],
   "source": []
  },
  {
   "cell_type": "code",
   "execution_count": null,
   "id": "eb58e43a-14c7-4a36-b85c-e2aa0e5edbe9",
   "metadata": {},
   "outputs": [],
   "source": [
    "# Write a Python function display_info that takes:\n",
    "# Positional arguments for the name and age of a person.\n",
    "# Keyword arguments for other personal details like address, phone number, and email."
   ]
  },
  {
   "cell_type": "code",
   "execution_count": 9,
   "id": "de354d3e-8316-48de-abd2-e15b1c771f06",
   "metadata": {},
   "outputs": [
    {
     "name": "stdout",
     "output_type": "stream",
     "text": [
      "Name: chandni\n",
      "Age: 20\n",
      "Other Details:\n",
      "address: 123 Main St\n",
      "phone: 92-000-000\n",
      "email: chandnirathi351@gmail.com\n"
     ]
    }
   ],
   "source": [
    "def display_info(name, age, **details):\n",
    "    print(f\"Name: {name}\")\n",
    "    print(f\"Age: {age}\")\n",
    "    \n",
    "    if details:\n",
    "        print(\"Other Details:\")\n",
    "        for key, value in details.items():\n",
    "            print(f\"{key}: {value}\")\n",
    "\n",
    "\n",
    "display_info(\n",
    "    \"chandni\",\n",
    "    20,\n",
    "    address=\"123 Main St\",\n",
    "    phone=\"92-000-000\",\n",
    "    email=\"chandnirathi351@gmail.com\"\n",
    ")\n"
   ]
  },
  {
   "cell_type": "code",
   "execution_count": null,
   "id": "369c9bbd-3fba-4abe-9baf-4d035304bf6b",
   "metadata": {},
   "outputs": [],
   "source": []
  },
  {
   "cell_type": "code",
   "execution_count": null,
   "id": "e4eed476-8d10-45c9-be69-c222a6a7f5d3",
   "metadata": {},
   "outputs": [],
   "source": [
    "# Write a Python function calculate_rectangle that accepts the length and width of a rectangle as arguments.\n",
    "# Inside this function, create two nested functions:\n",
    "# calculate_area: This function should calculate the area of the rectangle.\n",
    "# calculate_perimeter: This function should calculate the perimeter of the rectangle.\n",
    "# The main function should return both the area and the perimeter of the rectangle."
   ]
  },
  {
   "cell_type": "code",
   "execution_count": 10,
   "id": "90623447-45e0-4fc1-888c-a941de931ad5",
   "metadata": {},
   "outputs": [
    {
     "name": "stdout",
     "output_type": "stream",
     "text": [
      "Area: 15\n",
      "Perimeter: 16\n"
     ]
    }
   ],
   "source": [
    "def calculate_rectangle(length, width):\n",
    "    def calculate_area():\n",
    "        return length * width\n",
    "\n",
    "    def calculate_perimeter():\n",
    "        return 2 * (length + width)\n",
    "\n",
    "    return calculate_area(), calculate_perimeter()\n",
    "\n",
    "\n",
    "length = 5\n",
    "width = 3\n",
    "area, perimeter = calculate_rectangle(length, width)\n",
    "print(f\"Area: {area}\")\n",
    "print(f\"Perimeter: {perimeter}\")\n"
   ]
  },
  {
   "cell_type": "code",
   "execution_count": null,
   "id": "c4eea3bb-26fd-45bc-b7a5-1d507615736b",
   "metadata": {},
   "outputs": [],
   "source": []
  },
  {
   "cell_type": "code",
   "execution_count": null,
   "id": "1e26ffbb-486f-49d4-956e-46642f5246bd",
   "metadata": {},
   "outputs": [],
   "source": [
    "# products = [ {\"name\": \"Laptop\", \"price\": 1200, \"in_stock\": True, \"discount\": 0.1}, \n",
    "#             {\"name\": \"Smartphone\", \"price\": 800, \"in_stock\": False, \"discount\": 0.05}, \n",
    "#             {\"name\": \"Headphones\", \"price\": 150, \"in_stock\": True, \"discount\": 0.2}, \n",
    "#             {\"name\": \"Smartwatch\", \"price\": 300, \"in_stock\": True, \"discount\": 0}, \n",
    "#             {\"name\": \"Keyboard\", \"price\": 100, \"in_stock\": True, \"discount\": 0.15} ]\n",
    "\n",
    "# Get names of in-stock products:\n",
    "\n",
    "# *Use list comprehension to generate a list of names for the products that are in stock.\n",
    "\n",
    "# Calculate final prices for in-stock products after discount:\n",
    "\n",
    "# *For products that have a discount, calculate the final price by applying the discount.\n",
    "\n",
    "# *For products with no discount, keep the original price.\n",
    "\n",
    "# Generate a list of tuples with the product name and its final price.\n",
    "\n",
    "# Example Output:\n",
    "\n",
    "# In-stock product names: ['Laptop', 'Headphones', 'Smartwatch', 'Keyboard']\n",
    "# Discounted prices: [('Laptop', 1080.0), ('Headphones', 120.0), ('Smartwatch', 300), ('Keyboard', 85.0)]"
   ]
  },
  {
   "cell_type": "code",
   "execution_count": 11,
   "id": "e8caf284-1d4f-438a-9728-4cc1facaffe9",
   "metadata": {},
   "outputs": [
    {
     "name": "stdout",
     "output_type": "stream",
     "text": [
      "In-stock product names: ['Laptop', 'Headphones', 'Smartwatch', 'Keyboard']\n",
      "Discounted prices: [('Laptop', 1080.0), ('Headphones', 120.0), ('Smartwatch', 300), ('Keyboard', 85.0)]\n"
     ]
    }
   ],
   "source": [
    "products = [\n",
    "    {\"name\": \"Laptop\", \"price\": 1200, \"in_stock\": True, \"discount\": 0.1},\n",
    "    {\"name\": \"Smartphone\", \"price\": 800, \"in_stock\": False, \"discount\": 0.05},\n",
    "    {\"name\": \"Headphones\", \"price\": 150, \"in_stock\": True, \"discount\": 0.2},\n",
    "    {\"name\": \"Smartwatch\", \"price\": 300, \"in_stock\": True, \"discount\": 0},\n",
    "    {\"name\": \"Keyboard\", \"price\": 100, \"in_stock\": True, \"discount\": 0.15}\n",
    "]\n",
    "\n",
    "in_stock_names = [product[\"name\"] for product in products if product[\"in_stock\"]]\n",
    "\n",
    "discounted_prices = [\n",
    "    (product[\"name\"], product[\"price\"] * (1 - product[\"discount\"]) if product[\"discount\"] > 0 else product[\"price\"])\n",
    "    for product in products if product[\"in_stock\"]\n",
    "]\n",
    "\n",
    "print(f\"In-stock product names: {in_stock_names}\")\n",
    "print(f\"Discounted prices: {discounted_prices}\")\n"
   ]
  },
  {
   "cell_type": "code",
   "execution_count": null,
   "id": "45b16080-860f-4e6a-8be9-c6ce31baeaed",
   "metadata": {},
   "outputs": [],
   "source": []
  }
 ],
 "metadata": {
  "kernelspec": {
   "display_name": "Python 3 (ipykernel)",
   "language": "python",
   "name": "python3"
  },
  "language_info": {
   "codemirror_mode": {
    "name": "ipython",
    "version": 3
   },
   "file_extension": ".py",
   "mimetype": "text/x-python",
   "name": "python",
   "nbconvert_exporter": "python",
   "pygments_lexer": "ipython3",
   "version": "3.12.7"
  }
 },
 "nbformat": 4,
 "nbformat_minor": 5
}
