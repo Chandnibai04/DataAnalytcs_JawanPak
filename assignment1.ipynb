{
 "cells": [
  {
   "cell_type": "code",
   "execution_count": 2,
   "id": "38f40d62-e36b-429e-ba87-1b7dbcf65597",
   "metadata": {},
   "outputs": [
    {
     "data": {
      "text/plain": [
       "7"
      ]
     },
     "execution_count": 2,
     "metadata": {},
     "output_type": "execute_result"
    }
   ],
   "source": [
    "#What is the length of the salaries list.\n",
    "\n",
    "salaries = ['20k', '40k', '50k', '60k', '35k', '89k','40k']\n",
    "len(salaries)"
   ]
  },
  {
   "cell_type": "code",
   "execution_count": null,
   "id": "83f553d7-72c6-4b88-a89b-190ec3b196b1",
   "metadata": {},
   "outputs": [],
   "source": [
    "#Retrieve the third salary in the list by using index\n",
    "\n",
    "salaries = ['20k', '40k', '50k', '60k', '35k', '89k', '40k']\n",
    "salaries[2]     "
   ]
  },
  {
   "cell_type": "code",
   "execution_count": null,
   "id": "5a0d0c35-0f7a-436a-bf7a-aacaefcecd7a",
   "metadata": {},
   "outputs": [],
   "source": [
    "#Slice the salaries list to get only the middle three salaries.\n",
    "\n",
    "salaries = ['20k', '40k', '50k', '60k', '35k', '89k', '40k']\n",
    "salaries[-1]     \n"
   ]
  },
  {
   "cell_type": "code",
   "execution_count": null,
   "id": "17c025c3-50fc-430d-804c-e8a6a8483f3e",
   "metadata": {},
   "outputs": [],
   "source": [
    "#Slice the salaries list to get only the middle three salaries.\n",
    "\n",
    "salaries = ['20k', '40k', '50k', '60k', '35k', '89k', '40k']\n",
    "salaries[2:5]   "
   ]
  },
  {
   "cell_type": "code",
   "execution_count": null,
   "id": "4ad20fdb-2e15-434a-a603-7bdce761097c",
   "metadata": {},
   "outputs": [],
   "source": [
    "#Add a new salary to the list, ‘100k’ by using append() method.\n",
    "\n",
    "salaries = ['20k', '40k', '50k', '60k', '35k', '89k', '40k']\n",
    "salaries.append('100k')      \n",
    "salaries"
   ]
  },
  {
   "cell_type": "code",
   "execution_count": null,
   "id": "90861ecb-a994-4249-ac03-d82b33495041",
   "metadata": {},
   "outputs": [],
   "source": [
    "#Add a new salary to the list, ‘120k’ without method.\n",
    "\n",
    "salaries = ['20k', '40k', '50k', '60k', '35k', '89k', '40k']\n",
    "salaries+['120k']       "
   ]
  },
  {
   "cell_type": "code",
   "execution_count": null,
   "id": "3f0f3d8b-af5d-4af6-b1ba-9a07fef790aa",
   "metadata": {},
   "outputs": [],
   "source": [
    "#Replace the third salary in the list with '55k' and print the updated list.\n",
    "\n",
    "salaries = ['20k', '40k', '50k', '60k', '35k', '89k', '40k']\n",
    "salaries[2]            \n",
    "salaries[2] ='55k'    \n",
    "salaries"
   ]
  },
  {
   "cell_type": "code",
   "execution_count": null,
   "id": "97790428-c4a6-479d-9527-a31f8f640d34",
   "metadata": {},
   "outputs": [],
   "source": [
    " #Count how many times '40k' appears in the list\n",
    "\n",
    "salaries = ['20k', '40k', '50k', '60k', '35k', '89k', '40k']\n",
    "salaries.count('40k')         "
   ]
  },
  {
   "cell_type": "code",
   "execution_count": null,
   "id": "f10c99f2-1fbb-456d-9ec8-c10597b6a84d",
   "metadata": {},
   "outputs": [],
   "source": [
    "#Insert a new salary at the second position\n",
    "\n",
    "salaries = ['20k', '40k', '50k', '60k', '35k', '89k', '40k']\n",
    "salaries.insert(1,'25k')          \n",
    "salaries"
   ]
  },
  {
   "cell_type": "code",
   "execution_count": null,
   "id": "44900318-49ad-48ff-af7c-9d2378b7e588",
   "metadata": {},
   "outputs": [],
   "source": [
    " #Reverse the order of the salaries list with method\n",
    "\n",
    "salaries = ['20k', '40k', '50k', '60k', '35k', '89k', '40k']\n",
    "salaries.reverse()               \n",
    "salaries"
   ]
  },
  {
   "cell_type": "code",
   "execution_count": null,
   "id": "e5056eea-d2bc-4809-b8e3-7cf5b7855cdc",
   "metadata": {},
   "outputs": [],
   "source": [
    "#Reverse the order of the salaries list without method.\n",
    "\n",
    "salaries = ['20k', '40k', '50k', '60k', '35k', '89k', '40k']\n",
    "salaries = salaries[::-1]           \n",
    "salaries"
   ]
  },
  {
   "cell_type": "code",
   "execution_count": null,
   "id": "a0810ef0-5fec-4048-9e45-1eaa8cd2c6d1",
   "metadata": {},
   "outputs": [],
   "source": []
  }
 ],
 "metadata": {
  "kernelspec": {
   "display_name": "Python 3 (ipykernel)",
   "language": "python",
   "name": "python3"
  },
  "language_info": {
   "codemirror_mode": {
    "name": "ipython",
    "version": 3
   },
   "file_extension": ".py",
   "mimetype": "text/x-python",
   "name": "python",
   "nbconvert_exporter": "python",
   "pygments_lexer": "ipython3",
   "version": "3.12.7"
  }
 },
 "nbformat": 4,
 "nbformat_minor": 5
}
