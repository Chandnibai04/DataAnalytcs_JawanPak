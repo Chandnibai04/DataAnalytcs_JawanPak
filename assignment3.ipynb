{
 "cells": [
  {
   "cell_type": "code",
   "execution_count": null,
   "id": "e312a793-9d72-4ade-afb8-3977f84985aa",
   "metadata": {},
   "outputs": [],
   "source": [
    "# Q1. Write program to check a person’s eligibility for a loan based on age, credit score, and income. This time, the\n",
    "# eligibility criteria will be:\n",
    "\n",
    "# The person must be 18 years or older. The person must have a credit score of 650 or higher. The person must have\n",
    "# an annual income of at least 30000 dollars If the person has a credit score of 700 or higher, they may still be eligible\n",
    "# with an income of 25000 dollars or more."
   ]
  },
  {
   "cell_type": "code",
   "execution_count": 1,
   "id": "0fe651bd-0657-4fb6-9947-a0e60277f5df",
   "metadata": {},
   "outputs": [
    {
     "name": "stdin",
     "output_type": "stream",
     "text": [
      "Enter age:  13\n",
      "Enter credit score:  34440000\n",
      "Enter annual income:  400000000\n"
     ]
    },
    {
     "name": "stdout",
     "output_type": "stream",
     "text": [
      "Not eligible for loan\n"
     ]
    }
   ],
   "source": [
    "def check_loan_eligibility(age, credit_score, income):\n",
    "    if age >= 18:\n",
    "        if credit_score >= 700 and income >= 25000:\n",
    "            return \"Eligible for loan\"\n",
    "        elif credit_score >= 650 and income >= 30000:\n",
    "            return \"Eligible for loan\"\n",
    "        else:\n",
    "            return \"Not eligible for loan\"\n",
    "    else:\n",
    "        return \"Not eligible for loan\"\n",
    "\n",
    "# Example usage\n",
    "age = int(input(\"Enter age: \"))\n",
    "credit_score = int(input(\"Enter credit score: \"))\n",
    "income = int(input(\"Enter annual income: \"))\n",
    "print(check_loan_eligibility(age, credit_score, income))"
   ]
  },
  {
   "cell_type": "code",
   "execution_count": null,
   "id": "b8ab330f-0050-4e26-8c58-03b25a994878",
   "metadata": {},
   "outputs": [],
   "source": []
  },
  {
   "cell_type": "code",
   "execution_count": null,
   "id": "7d80f50b-32e2-4623-ac41-d91bf5009a3e",
   "metadata": {},
   "outputs": [],
   "source": [
    "# Q2. Write a Python program that checks if a person is an adult (age ≥ 18).\n",
    "\n",
    "# Take the age as input.\n",
    "# If the person is underage (age &lt; 18), show message: &quot;You are underage&quot; and don&#39;t ask for experience.\n",
    "\n",
    "# If the person is an adult, take years of experience as input and print:\n",
    "# You have a lot of experience.(10+ years)\n",
    "# You have moderate experience. (5-9 years)\n",
    "# You are relatively new. (2-4 years)\n",
    "# You are just starting out.(less than 2 years)\n"
   ]
  },
  {
   "cell_type": "code",
   "execution_count": 2,
   "id": "d1c048e2-646b-4968-8dfb-1592873f21cb",
   "metadata": {},
   "outputs": [
    {
     "name": "stdin",
     "output_type": "stream",
     "text": [
      "Enter your age:  20\n"
     ]
    },
    {
     "name": "stdout",
     "output_type": "stream",
     "text": [
      "You are underage.\n"
     ]
    }
   ],
   "source": [
    "ge = int(input(\"Enter your age: \"))\n",
    "\n",
    "if age < 18:\n",
    "    print(\"You are underage.\")\n",
    "else:\n",
    "    experience = int(input(\"Enter years of experience: \"))\n",
    "    if experience >= 10:\n",
    "        print(\"You have a lot of experience.\")\n",
    "    elif 5 <= experience <= 9:\n",
    "        print(\"You have moderate experience.\")\n",
    "    elif 2 <= experience <= 4:\n",
    "        print(\"You are relatively new.\")\n",
    "    else:\n",
    "        print(\"You are just starting out.\")"
   ]
  },
  {
   "cell_type": "code",
   "execution_count": null,
   "id": "40785314-1206-4c31-a973-d4756f208d33",
   "metadata": {},
   "outputs": [],
   "source": []
  },
  {
   "cell_type": "code",
   "execution_count": null,
   "id": "b244ce8c-336d-44b4-81e8-ad0f82d1427d",
   "metadata": {},
   "outputs": [],
   "source": [
    "# Q3. Write a program to explore below variables\n",
    "\n",
    "# a) Print their memory address (to check if python assigns same address of different variables having same element)\n",
    "# b) Find memory size and append them in a list, use this list to find data type having least memory size\n",
    "# c) Print final name of data type which has lowest memory\n",
    "# Result will help a programmer to decide which variable is storing less memory and variable locations"
   ]
  },
  {
   "cell_type": "code",
   "execution_count": 3,
   "id": "a7e1ed3a-46ca-4ae3-b2dd-887dbd9a92ca",
   "metadata": {},
   "outputs": [
    {
     "name": "stdout",
     "output_type": "stream",
     "text": [
      "Value: 42, Memory Address: 140735853833944\n",
      "Value: 42.0, Memory Address: 2111700968944\n",
      "Value: string, Memory Address: 140735853887696\n",
      "Value: [1, 2, 3], Memory Address: 2111702442624\n",
      "Value: (1, 2, 3), Memory Address: 2111702361152\n",
      "Value: {1: 'a', 2: 'b'}, Memory Address: 2111702437696\n",
      "Data type with lowest memory size: <class 'float'>\n"
     ]
    }
   ],
   "source": [
    "import sys\n",
    "\n",
    "variables = [42, 42.0, \"string\", [1, 2, 3], (1, 2, 3), {1: 'a', 2: 'b'}]\n",
    "memory_sizes = []\n",
    "min_size_type = None\n",
    "\n",
    "for var in variables:\n",
    "    print(f\"Value: {var}, Memory Address: {id(var)}\")\n",
    "    size = sys.getsizeof(var)\n",
    "    memory_sizes.append((size, type(var)))\n",
    "\n",
    "min_size_type = min(memory_sizes, key=lambda x: x[0])[1]\n",
    "print(f\"Data type with lowest memory size: {min_size_type}\")\n"
   ]
  },
  {
   "cell_type": "code",
   "execution_count": null,
   "id": "49b12d30-53a4-4157-ab41-db9f2aad5225",
   "metadata": {},
   "outputs": [],
   "source": []
  },
  {
   "cell_type": "code",
   "execution_count": null,
   "id": "cce104cc-5269-4612-87e3-5854742fc677",
   "metadata": {},
   "outputs": [],
   "source": [
    "# Q4. Write a Python program that asks the user to enter an email address. The program should check if the email\n",
    "# contains the characters @ and &quot;.&quot; (ignoring case). If either character is present, print Email format is valid\n",
    "# Otherwise, print Invalid email format."
   ]
  },
  {
   "cell_type": "code",
   "execution_count": 4,
   "id": "5b934c5e-9337-4a4f-b975-b8c8a3892341",
   "metadata": {},
   "outputs": [
    {
     "name": "stdin",
     "output_type": "stream",
     "text": [
      "Enter an email address:  Chandnirathi351@gmail.comm\n"
     ]
    },
    {
     "name": "stdout",
     "output_type": "stream",
     "text": [
      "Email format is valid.\n"
     ]
    }
   ],
   "source": [
    "email = input(\"Enter an email address: \").lower()\n",
    "\n",
    "if \"@\" in email and \".\" in email:\n",
    "    print(\"Email format is valid.\")\n",
    "else:\n",
    "    print(\"Invalid email format.\")\n"
   ]
  },
  {
   "cell_type": "code",
   "execution_count": null,
   "id": "ed04fa38-c714-46fa-99e6-c3ff304bd4f8",
   "metadata": {},
   "outputs": [],
   "source": []
  },
  {
   "cell_type": "code",
   "execution_count": null,
   "id": "f30baf70-2581-429a-8d60-771e112dcff3",
   "metadata": {},
   "outputs": [],
   "source": [
    "# Write a python program to know data type of each element stored in a tuple, append the data types in a list.\n",
    "# Show final output in a list as data types of tuple elements\n",
    "# x = (11,22.333,'apple',,[1,2,3],('a','b'))"
   ]
  },
  {
   "cell_type": "code",
   "execution_count": 5,
   "id": "830a61f4-28ad-4fb8-afe9-a8191c1c3f64",
   "metadata": {},
   "outputs": [
    {
     "name": "stdout",
     "output_type": "stream",
     "text": [
      "Data types of tuple elements: [<class 'int'>, <class 'float'>, <class 'str'>, <class 'list'>, <class 'tuple'>]\n"
     ]
    }
   ],
   "source": [
    "x = (11, 22.333, 'apple', [1, 2, 3], ('a', 'b'))\n",
    "data_types = [type(element) for element in x]\n",
    "print(f\"Data types of tuple elements: {data_types}\")"
   ]
  },
  {
   "cell_type": "code",
   "execution_count": null,
   "id": "ec305538-40ca-42ad-8279-e322a9dc3064",
   "metadata": {},
   "outputs": [],
   "source": []
  },
  {
   "cell_type": "code",
   "execution_count": null,
   "id": "4019c6fb-0c58-4ccd-9aae-2df2368557cf",
   "metadata": {},
   "outputs": [],
   "source": [
    "# Q6. Write a Python program that:\n",
    "# Checks if a given username exists in a list of active users.\n",
    "# Verifies if the user is the admin using identity operators."
   ]
  },
  {
   "cell_type": "code",
   "execution_count": 6,
   "id": "dcf5f7c9-2ad3-42c6-911e-ed3b3271ab84",
   "metadata": {},
   "outputs": [
    {
     "name": "stdin",
     "output_type": "stream",
     "text": [
      "Enter username:  chandni bai\n"
     ]
    },
    {
     "name": "stdout",
     "output_type": "stream",
     "text": [
      "chandni bai does not exist in the system.\n"
     ]
    }
   ],
   "source": [
    "users = [(\"alice\", \"admin\"), (\"bob\", \"user\"), (\"charlie\", \"moderator\")]\n",
    "\n",
    "username = input(\"Enter username: \").lower()\n",
    "user_found = any(user[0] == username for user in users)\n",
    "is_admin = any(user == (username, \"admin\") for user in users)\n",
    "\n",
    "if user_found:\n",
    "    print(f\"{username} exists in the system.\")\n",
    "    if is_admin:\n",
    "        print(f\"{username} is the admin.\")\n",
    "else:\n",
    "    print(f\"{username} does not exist in the system.\")\n"
   ]
  },
  {
   "cell_type": "code",
   "execution_count": null,
   "id": "127feeb3-5bca-4f42-a232-d87baef84a30",
   "metadata": {},
   "outputs": [],
   "source": []
  },
  {
   "cell_type": "code",
   "execution_count": null,
   "id": "752f2f70-4879-4671-af4e-e236a4cac5de",
   "metadata": {},
   "outputs": [],
   "source": [
    "# Q7. person1 has same family as of person2, write a program to print relation between person1 and person2, if their\n",
    "# data is ['father name','mother name','district','family number'] same (Print relation'Siblings') also check person1\n",
    "# data with person3 which is cousin of person1 (Print relation 'Cousin')"
   ]
  },
  {
   "cell_type": "code",
   "execution_count": 8,
   "id": "e236a91f-da05-42ef-bcdd-ae097d7f880a",
   "metadata": {},
   "outputs": [
    {
     "name": "stdout",
     "output_type": "stream",
     "text": [
      "Person1 and Person2 are siblings (values are the same).\n",
      "Person1 and Person3 are not cousins.\n"
     ]
    }
   ],
   "source": [
    "# Family data for persons\n",
    "person1 = ['John', 'Mary', 'NY', 123]\n",
    "person2 = ['John', 'Mary', 'NY', 123]\n",
    "person3 = ['David', 'Sophia', 'LA', 456]\n",
    "\n",
    "# Checking relationship\n",
    "if person1 is person2:\n",
    "    print(\"Person1 and Person2 are siblings (identity operator matched).\")\n",
    "elif person1 == person2:\n",
    "    print(\"Person1 and Person2 are siblings (values are the same).\")\n",
    "else:\n",
    "    print(\"Person1 and Person2 are not siblings.\")\n",
    "\n",
    "if person1[:2] == person3[:2]:\n",
    "    print(\"Person1 and Person3 are cousins (same parents).\")\n",
    "else:\n",
    "    print(\"Person1 and Person3 are not cousins.\")\n",
    "\n"
   ]
  },
  {
   "cell_type": "code",
   "execution_count": null,
   "id": "8303c450-fc44-4c62-9017-2f5ec18d6d88",
   "metadata": {},
   "outputs": [],
   "source": []
  },
  {
   "cell_type": "code",
   "execution_count": null,
   "id": "6e5453df-30b8-43ed-b47b-15d765e5dda2",
   "metadata": {},
   "outputs": [],
   "source": [
    "# Q8. Write a Python program to store and display a book&#39;s title, author, year of publication, and price using a tuple.\n",
    "\n",
    "# Instructions:\n",
    "# Create a tuple to store the book details.\n",
    "# Ask the user for the book's title, author, year, and price.\n",
    "# Display the stored book information."
   ]
  },
  {
   "cell_type": "code",
   "execution_count": 9,
   "id": "9a16f16f-9b0f-413b-9cd4-ba9a6fa090a8",
   "metadata": {},
   "outputs": [
    {
     "name": "stdin",
     "output_type": "stream",
     "text": [
      "Enter the book's title:  99 rules of love\n",
      "Enter the book's author:  abcd\n",
      "Enter the year of publication:  2012\n",
      "Enter the book's price:  1500\n"
     ]
    },
    {
     "name": "stdout",
     "output_type": "stream",
     "text": [
      "\n",
      "Stored Book Information:\n",
      "Title: 99 rules of love\n",
      "Author: abcd\n",
      "Year of Publication: 2012\n",
      "Price: 1500\n"
     ]
    }
   ],
   "source": [
    "# Ask the user for book details\n",
    "title = input(\"Enter the book's title: \")\n",
    "author = input(\"Enter the book's author: \")\n",
    "year = input(\"Enter the year of publication: \")\n",
    "price = input(\"Enter the book's price: \")\n",
    "\n",
    "# Store details in a tuple\n",
    "book = (title, author, year, price)\n",
    "\n",
    "# Display the stored book information\n",
    "print(\"\\nStored Book Information:\")\n",
    "print(f\"Title: {book[0]}\")\n",
    "print(f\"Author: {book[1]}\")\n",
    "print(f\"Year of Publication: {book[2]}\")\n",
    "print(f\"Price: {book[3]}\")\n"
   ]
  },
  {
   "cell_type": "code",
   "execution_count": null,
   "id": "bd343ad9-9207-43a8-a6ee-5d5c47f96cb3",
   "metadata": {},
   "outputs": [],
   "source": []
  },
  {
   "cell_type": "code",
   "execution_count": null,
   "id": "571f3e9b-cd8b-4b5d-94d1-200e2427c324",
   "metadata": {},
   "outputs": [],
   "source": [
    "# Q9. Write a program to check if a user’s chosen subject is available in the list of offered subjects.\n",
    "# Instructions:\n",
    "# Given a list of subjects, ask the user to input a subject.\n",
    "# Display whether the subject is available or not."
   ]
  },
  {
   "cell_type": "code",
   "execution_count": 18,
   "id": "d5cd5034-5caa-4b3d-9c17-0a7cd6ab2efc",
   "metadata": {},
   "outputs": [
    {
     "name": "stdin",
     "output_type": "stream",
     "text": [
      "Enter the subject you are looking for:  DSA\n"
     ]
    },
    {
     "name": "stdout",
     "output_type": "stream",
     "text": [
      "DSA is available.\n"
     ]
    }
   ],
   "source": [
    "# List of offered subjects\n",
    "subjects = [\"calculus\", \"DSA\", \"Linear algebra\", \"English\", \"Computer Science\"]\n",
    "\n",
    "# Ask the user to input a subject\n",
    "chosen_subject = input(\"Enter the subject you are looking for: \").strip()\n",
    "\n",
    "# Normalize the input and subjects to lowercase for case-insensitive comparison\n",
    "if chosen_subject.lower() in [subject.lower() for subject in subjects]:\n",
    "    print(f\"{chosen_subject} is available.\")\n",
    "else:\n",
    "    print(f\"{chosen_subject} is not available.\")\n"
   ]
  },
  {
   "cell_type": "code",
   "execution_count": null,
   "id": "04f7453a-17a5-43e8-947f-e9ddfbd18fcd",
   "metadata": {},
   "outputs": [],
   "source": []
  },
  {
   "cell_type": "code",
   "execution_count": null,
   "id": "3348fd12-4891-4755-942c-c7df4a30686b",
   "metadata": {},
   "outputs": [],
   "source": [
    "# Q10. Write a Python program that performs the following tasks using tuple methods\n",
    "# Create a tuple with multiple integer values, including duplicates.\n",
    "# Prompt the user to input a number and find the index of its first occurrence in the tuple.\n",
    "# Ask the user for another number and count how many times it appears in the tuple.\n",
    "# Display appropriate messages based on the results"
   ]
  },
  {
   "cell_type": "code",
   "execution_count": 19,
   "id": "01a53e2f-45b2-43d8-81a7-625b1bb88c35",
   "metadata": {},
   "outputs": [
    {
     "name": "stdin",
     "output_type": "stream",
     "text": [
      "Enter a number to find its first occurrence in the tuple:  20\n"
     ]
    },
    {
     "name": "stdout",
     "output_type": "stream",
     "text": [
      "The first occurrence of 20 is at index 1.\n"
     ]
    },
    {
     "name": "stdin",
     "output_type": "stream",
     "text": [
      "Enter another number to count its occurrences in the tuple:  30\n"
     ]
    },
    {
     "name": "stdout",
     "output_type": "stream",
     "text": [
      "The number 30 appears 1 time(s) in the tuple.\n"
     ]
    }
   ],
   "source": [
    "# Create a tuple with multiple integer values, including duplicates\n",
    "numbers = (10, 20, 30, 20, 10, 40, 50, 20, 10)\n",
    "\n",
    "# Prompt the user to input a number and find the index of its first occurrence\n",
    "num1 = int(input(\"Enter a number to find its first occurrence in the tuple: \"))\n",
    "if num1 in numbers:\n",
    "    first_index = numbers.index(num1)\n",
    "    print(f\"The first occurrence of {num1} is at index {first_index}.\")\n",
    "else:\n",
    "    print(f\"The number {num1} is not in the tuple.\")\n",
    "\n",
    "# Ask the user for another number and count how many times it appears in the tuple\n",
    "num2 = int(input(\"Enter another number to count its occurrences in the tuple: \"))\n",
    "count = numbers.count(num2)\n",
    "print(f\"The number {num2} appears {count} time(s) in the tuple.\")\n"
   ]
  },
  {
   "cell_type": "code",
   "execution_count": null,
   "id": "72b92999-12be-46d0-a184-7679083c3acf",
   "metadata": {},
   "outputs": [],
   "source": []
  },
  {
   "cell_type": "code",
   "execution_count": null,
   "id": "b9ebae1d-3c2f-48c7-a062-236bb6bac613",
   "metadata": {},
   "outputs": [],
   "source": [
    "# Write a Python program that asks the user to enter the current temperature in Celsius and checks whether it&#39;s\n",
    "# freezing, normal, or hot based on predefined temperature values.&quot;\n",
    "\n",
    "# Assignment Requirements:\n",
    "# Input: The user will be asked to enter the current temperature in Celsius.\n",
    "# Predefined values:\n",
    "# Freezing: -5\n",
    "# Normal: 25\n",
    "# Hot: 40"
   ]
  },
  {
   "cell_type": "code",
   "execution_count": 20,
   "id": "e08278ba-9eaf-4203-ba22-e916df8fb4ea",
   "metadata": {},
   "outputs": [
    {
     "name": "stdin",
     "output_type": "stream",
     "text": [
      "Enter the current temperature in Celsius:  22\n"
     ]
    },
    {
     "name": "stdout",
     "output_type": "stream",
     "text": [
      "The temperature is normal.\n"
     ]
    }
   ],
   "source": [
    "# Predefined temperature thresholds\n",
    "FREEZING_TEMP = -5\n",
    "NORMAL_TEMP = 25\n",
    "HOT_TEMP = 40\n",
    "\n",
    "# Ask the user to enter the current temperature\n",
    "current_temp = float(input(\"Enter the current temperature in Celsius: \"))\n",
    "\n",
    "# Determine the temperature category\n",
    "if current_temp <= FREEZING_TEMP:\n",
    "    print(\"The temperature is freezing.\")\n",
    "elif FREEZING_TEMP < current_temp <= NORMAL_TEMP:\n",
    "    print(\"The temperature is normal.\")\n",
    "elif current_temp > NORMAL_TEMP and current_temp <= HOT_TEMP:\n",
    "    print(\"The temperature is warm.\")\n",
    "else:\n",
    "    print(\"The temperature is hot.\")\n"
   ]
  },
  {
   "cell_type": "code",
   "execution_count": null,
   "id": "a1825de4-c914-481d-97d1-022c50ba1a43",
   "metadata": {},
   "outputs": [],
   "source": []
  }
 ],
 "metadata": {
  "kernelspec": {
   "display_name": "Python 3 (ipykernel)",
   "language": "python",
   "name": "python3"
  },
  "language_info": {
   "codemirror_mode": {
    "name": "ipython",
    "version": 3
   },
   "file_extension": ".py",
   "mimetype": "text/x-python",
   "name": "python",
   "nbconvert_exporter": "python",
   "pygments_lexer": "ipython3",
   "version": "3.12.7"
  }
 },
 "nbformat": 4,
 "nbformat_minor": 5
}
